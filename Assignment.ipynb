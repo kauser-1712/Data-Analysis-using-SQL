{
 "cells": [
  {
   "cell_type": "markdown",
   "id": "0ee774ff",
   "metadata": {},
   "source": [
    "# **Data Analysis using SQL**"
   ]
  },
  {
   "cell_type": "code",
   "execution_count": 27,
   "id": "c725062e",
   "metadata": {},
   "outputs": [],
   "source": [
    "# Importing the required libraries\n",
    "import pandas as pd\n",
    "import sqlite3\n",
    "import json\n",
    "import ast  # Library for literal_eval\n",
    "from pytz import timezone\n",
    "import warnings\n",
    "warnings.filterwarnings(\"ignore\")"
   ]
  },
  {
   "cell_type": "code",
   "execution_count": 9,
   "id": "6010e947",
   "metadata": {},
   "outputs": [
    {
     "data": {
      "text/html": [
       "<div>\n",
       "<style scoped>\n",
       "    .dataframe tbody tr th:only-of-type {\n",
       "        vertical-align: middle;\n",
       "    }\n",
       "\n",
       "    .dataframe tbody tr th {\n",
       "        vertical-align: top;\n",
       "    }\n",
       "\n",
       "    .dataframe thead th {\n",
       "        text-align: right;\n",
       "    }\n",
       "</style>\n",
       "<table border=\"1\" class=\"dataframe\">\n",
       "  <thead>\n",
       "    <tr style=\"text-align: right;\">\n",
       "      <th></th>\n",
       "      <th>org_id</th>\n",
       "      <th>org_name</th>\n",
       "      <th>org_code</th>\n",
       "      <th>org_status</th>\n",
       "      <th>org_date</th>\n",
       "      <th>properties</th>\n",
       "    </tr>\n",
       "  </thead>\n",
       "  <tbody>\n",
       "    <tr>\n",
       "      <th>0</th>\n",
       "      <td>11</td>\n",
       "      <td>Company A</td>\n",
       "      <td>BIW</td>\n",
       "      <td>renewed</td>\n",
       "      <td>2023-05-05 04:23:04</td>\n",
       "      <td>{\"email\": \"biw@gmail.com\",\"company\":\"Company A...</td>\n",
       "    </tr>\n",
       "    <tr>\n",
       "      <th>1</th>\n",
       "      <td>22</td>\n",
       "      <td>Company B</td>\n",
       "      <td>BIX</td>\n",
       "      <td>renewed</td>\n",
       "      <td>2023-05-12 06:28:34</td>\n",
       "      <td>{\"email\": \"bix@gmail.com\",\"location\":\"Punjab\",...</td>\n",
       "    </tr>\n",
       "    <tr>\n",
       "      <th>2</th>\n",
       "      <td>33</td>\n",
       "      <td>Company C</td>\n",
       "      <td>BMR</td>\n",
       "      <td>not renewed</td>\n",
       "      <td>2023-06-15 06:53:38</td>\n",
       "      <td>{\"email\": \"bon@gmail.com\",\"company\":\"Company C...</td>\n",
       "    </tr>\n",
       "    <tr>\n",
       "      <th>3</th>\n",
       "      <td>44</td>\n",
       "      <td>Company D</td>\n",
       "      <td>BMW</td>\n",
       "      <td>not renewed</td>\n",
       "      <td>2023-06-15 18:19:42</td>\n",
       "      <td>{\"email\": \"bou@gmail.com\",\"company\":\"Company D...</td>\n",
       "    </tr>\n",
       "    <tr>\n",
       "      <th>4</th>\n",
       "      <td>55</td>\n",
       "      <td>Company E</td>\n",
       "      <td>BIZ</td>\n",
       "      <td>renewed</td>\n",
       "      <td>2023-05-15 09:55:47</td>\n",
       "      <td>{\"email\": \"biz@gmail.com\",\"location\":\"Gujarat\"...</td>\n",
       "    </tr>\n",
       "  </tbody>\n",
       "</table>\n",
       "</div>"
      ],
      "text/plain": [
       "   org_id   org_name org_code   org_status            org_date  \\\n",
       "0      11  Company A      BIW      renewed 2023-05-05 04:23:04   \n",
       "1      22  Company B      BIX      renewed 2023-05-12 06:28:34   \n",
       "2      33  Company C      BMR  not renewed 2023-06-15 06:53:38   \n",
       "3      44  Company D      BMW  not renewed 2023-06-15 18:19:42   \n",
       "4      55  Company E      BIZ      renewed 2023-05-15 09:55:47   \n",
       "\n",
       "                                          properties  \n",
       "0  {\"email\": \"biw@gmail.com\",\"company\":\"Company A...  \n",
       "1  {\"email\": \"bix@gmail.com\",\"location\":\"Punjab\",...  \n",
       "2  {\"email\": \"bon@gmail.com\",\"company\":\"Company C...  \n",
       "3  {\"email\": \"bou@gmail.com\",\"company\":\"Company D...  \n",
       "4  {\"email\": \"biz@gmail.com\",\"location\":\"Gujarat\"...  "
      ]
     },
     "execution_count": 9,
     "metadata": {},
     "output_type": "execute_result"
    }
   ],
   "source": [
    "# Read the excel file into a pandas dataframe\n",
    "organization=pd.read_excel('Data Analyst Intern SQL Assignment.xlsx',sheet_name='organization')\n",
    "organization.head()"
   ]
  },
  {
   "cell_type": "code",
   "execution_count": 10,
   "id": "c10980a8",
   "metadata": {},
   "outputs": [],
   "source": [
    "# Preprocessing the data to make querying easier\n",
    "# Convert 'org_date' column to datetime\n",
    "organization['org_date'] = pd.to_datetime(organization['org_date'])\n",
    "\n",
    "# Localize datetime to UTC time zone\n",
    "organization['org_date'] = organization['org_date'].dt.tz_localize('UTC') #Universal co-ordinated time (to maintain consistency)\n",
    "\n",
    "# Convert datetime to 'Asia/Kolkata' time zone\n",
    "organization['org_date'] = organization['org_date'].dt.tz_convert('Asia/Kolkata')"
   ]
  },
  {
   "cell_type": "code",
   "execution_count": 11,
   "id": "5050526a",
   "metadata": {},
   "outputs": [],
   "source": [
    "# Convert 'properties' column from string to dictionary\n",
    "organization['properties'] = organization['properties'].apply(ast.literal_eval)\n",
    "\n",
    "# Extract 'location' from 'properties' column if it exists\n",
    "organization['location'] = organization['properties'].apply(lambda x: x.get('location', None))\n",
    "# Convert 'properties' column back to string\n",
    "\n",
    "organization['properties'] = organization['properties'].apply(json.dumps)"
   ]
  },
  {
   "cell_type": "code",
   "execution_count": 12,
   "id": "123b8a54",
   "metadata": {},
   "outputs": [
    {
     "data": {
      "text/html": [
       "<div>\n",
       "<style scoped>\n",
       "    .dataframe tbody tr th:only-of-type {\n",
       "        vertical-align: middle;\n",
       "    }\n",
       "\n",
       "    .dataframe tbody tr th {\n",
       "        vertical-align: top;\n",
       "    }\n",
       "\n",
       "    .dataframe thead th {\n",
       "        text-align: right;\n",
       "    }\n",
       "</style>\n",
       "<table border=\"1\" class=\"dataframe\">\n",
       "  <thead>\n",
       "    <tr style=\"text-align: right;\">\n",
       "      <th></th>\n",
       "      <th>org_id</th>\n",
       "      <th>org_name</th>\n",
       "      <th>org_code</th>\n",
       "      <th>org_status</th>\n",
       "      <th>org_date</th>\n",
       "      <th>properties</th>\n",
       "      <th>location</th>\n",
       "    </tr>\n",
       "  </thead>\n",
       "  <tbody>\n",
       "    <tr>\n",
       "      <th>0</th>\n",
       "      <td>11</td>\n",
       "      <td>Company A</td>\n",
       "      <td>BIW</td>\n",
       "      <td>renewed</td>\n",
       "      <td>2023-05-05 09:53:04+05:30</td>\n",
       "      <td>{\"email\": \"biw@gmail.com\", \"company\": \"Company...</td>\n",
       "      <td>Maharastra</td>\n",
       "    </tr>\n",
       "    <tr>\n",
       "      <th>1</th>\n",
       "      <td>22</td>\n",
       "      <td>Company B</td>\n",
       "      <td>BIX</td>\n",
       "      <td>renewed</td>\n",
       "      <td>2023-05-12 11:58:34+05:30</td>\n",
       "      <td>{\"email\": \"bix@gmail.com\", \"location\": \"Punjab...</td>\n",
       "      <td>Punjab</td>\n",
       "    </tr>\n",
       "    <tr>\n",
       "      <th>2</th>\n",
       "      <td>33</td>\n",
       "      <td>Company C</td>\n",
       "      <td>BMR</td>\n",
       "      <td>not renewed</td>\n",
       "      <td>2023-06-15 12:23:38+05:30</td>\n",
       "      <td>{\"email\": \"bon@gmail.com\", \"company\": \"Company...</td>\n",
       "      <td>Maharastra</td>\n",
       "    </tr>\n",
       "    <tr>\n",
       "      <th>3</th>\n",
       "      <td>44</td>\n",
       "      <td>Company D</td>\n",
       "      <td>BMW</td>\n",
       "      <td>not renewed</td>\n",
       "      <td>2023-06-15 23:49:42+05:30</td>\n",
       "      <td>{\"email\": \"bou@gmail.com\", \"company\": \"Company...</td>\n",
       "      <td>Gujarat</td>\n",
       "    </tr>\n",
       "    <tr>\n",
       "      <th>4</th>\n",
       "      <td>55</td>\n",
       "      <td>Company E</td>\n",
       "      <td>BIZ</td>\n",
       "      <td>renewed</td>\n",
       "      <td>2023-05-15 15:25:47+05:30</td>\n",
       "      <td>{\"email\": \"biz@gmail.com\", \"location\": \"Gujara...</td>\n",
       "      <td>Gujarat</td>\n",
       "    </tr>\n",
       "  </tbody>\n",
       "</table>\n",
       "</div>"
      ],
      "text/plain": [
       "   org_id   org_name org_code   org_status                  org_date  \\\n",
       "0      11  Company A      BIW      renewed 2023-05-05 09:53:04+05:30   \n",
       "1      22  Company B      BIX      renewed 2023-05-12 11:58:34+05:30   \n",
       "2      33  Company C      BMR  not renewed 2023-06-15 12:23:38+05:30   \n",
       "3      44  Company D      BMW  not renewed 2023-06-15 23:49:42+05:30   \n",
       "4      55  Company E      BIZ      renewed 2023-05-15 15:25:47+05:30   \n",
       "\n",
       "                                          properties    location  \n",
       "0  {\"email\": \"biw@gmail.com\", \"company\": \"Company...  Maharastra  \n",
       "1  {\"email\": \"bix@gmail.com\", \"location\": \"Punjab...      Punjab  \n",
       "2  {\"email\": \"bon@gmail.com\", \"company\": \"Company...  Maharastra  \n",
       "3  {\"email\": \"bou@gmail.com\", \"company\": \"Company...     Gujarat  \n",
       "4  {\"email\": \"biz@gmail.com\", \"location\": \"Gujara...     Gujarat  "
      ]
     },
     "execution_count": 12,
     "metadata": {},
     "output_type": "execute_result"
    }
   ],
   "source": [
    "organization.head()"
   ]
  },
  {
   "cell_type": "code",
   "execution_count": 13,
   "id": "5717c62f",
   "metadata": {},
   "outputs": [
    {
     "data": {
      "text/html": [
       "<div>\n",
       "<style scoped>\n",
       "    .dataframe tbody tr th:only-of-type {\n",
       "        vertical-align: middle;\n",
       "    }\n",
       "\n",
       "    .dataframe tbody tr th {\n",
       "        vertical-align: top;\n",
       "    }\n",
       "\n",
       "    .dataframe thead th {\n",
       "        text-align: right;\n",
       "    }\n",
       "</style>\n",
       "<table border=\"1\" class=\"dataframe\">\n",
       "  <thead>\n",
       "    <tr style=\"text-align: right;\">\n",
       "      <th></th>\n",
       "      <th>call_date</th>\n",
       "      <th>user_id</th>\n",
       "      <th>lead_id</th>\n",
       "      <th>org_id</th>\n",
       "      <th>call_connected</th>\n",
       "      <th>call_not_connected_reason</th>\n",
       "    </tr>\n",
       "  </thead>\n",
       "  <tbody>\n",
       "    <tr>\n",
       "      <th>0</th>\n",
       "      <td>2023-05-23 05:37:14</td>\n",
       "      <td>f38197ca-8c60-467c-8c99-8f202b0aec14</td>\n",
       "      <td>add0dfb3-eff7-408c-b6e2-ab1f56dcb734</td>\n",
       "      <td>999</td>\n",
       "      <td>0</td>\n",
       "      <td>NOT_PICKED</td>\n",
       "    </tr>\n",
       "    <tr>\n",
       "      <th>1</th>\n",
       "      <td>2023-05-23 06:01:54</td>\n",
       "      <td>ae3fae95-5e3a-40cc-9c01-5779ec9d4010</td>\n",
       "      <td>ef76d2ca-c1a2-47ba-b48c-3ae18155cc88</td>\n",
       "      <td>999</td>\n",
       "      <td>1</td>\n",
       "      <td>NaN</td>\n",
       "    </tr>\n",
       "    <tr>\n",
       "      <th>2</th>\n",
       "      <td>2023-05-23 06:36:41</td>\n",
       "      <td>ae3fae95-5e3a-40cc-9c01-5779ec9d4010</td>\n",
       "      <td>334c9162-21ed-4bd3-bd02-d2c6a93d593b</td>\n",
       "      <td>999</td>\n",
       "      <td>0</td>\n",
       "      <td>NOT_PICKED</td>\n",
       "    </tr>\n",
       "    <tr>\n",
       "      <th>3</th>\n",
       "      <td>2023-05-23 07:32:40</td>\n",
       "      <td>ae3fae95-5e3a-40cc-9c01-5779ec9d4010</td>\n",
       "      <td>7948c411-dc04-4fac-ad49-dde5727c5109</td>\n",
       "      <td>999</td>\n",
       "      <td>0</td>\n",
       "      <td>other(Not interested)</td>\n",
       "    </tr>\n",
       "    <tr>\n",
       "      <th>4</th>\n",
       "      <td>2023-05-23 11:24:21</td>\n",
       "      <td>f38197ca-8c60-467c-8c99-8f202b0aec14</td>\n",
       "      <td>9376f9d1-bc61-4dbf-bb78-3bac588b0712</td>\n",
       "      <td>999</td>\n",
       "      <td>0</td>\n",
       "      <td>NOT_PICKED</td>\n",
       "    </tr>\n",
       "  </tbody>\n",
       "</table>\n",
       "</div>"
      ],
      "text/plain": [
       "            call_date                               user_id  \\\n",
       "0 2023-05-23 05:37:14  f38197ca-8c60-467c-8c99-8f202b0aec14   \n",
       "1 2023-05-23 06:01:54  ae3fae95-5e3a-40cc-9c01-5779ec9d4010   \n",
       "2 2023-05-23 06:36:41  ae3fae95-5e3a-40cc-9c01-5779ec9d4010   \n",
       "3 2023-05-23 07:32:40  ae3fae95-5e3a-40cc-9c01-5779ec9d4010   \n",
       "4 2023-05-23 11:24:21  f38197ca-8c60-467c-8c99-8f202b0aec14   \n",
       "\n",
       "                                lead_id  org_id  call_connected  \\\n",
       "0  add0dfb3-eff7-408c-b6e2-ab1f56dcb734     999               0   \n",
       "1  ef76d2ca-c1a2-47ba-b48c-3ae18155cc88     999               1   \n",
       "2  334c9162-21ed-4bd3-bd02-d2c6a93d593b     999               0   \n",
       "3  7948c411-dc04-4fac-ad49-dde5727c5109     999               0   \n",
       "4  9376f9d1-bc61-4dbf-bb78-3bac588b0712     999               0   \n",
       "\n",
       "  call_not_connected_reason  \n",
       "0                NOT_PICKED  \n",
       "1                       NaN  \n",
       "2                NOT_PICKED  \n",
       "3     other(Not interested)  \n",
       "4                NOT_PICKED  "
      ]
     },
     "execution_count": 13,
     "metadata": {},
     "output_type": "execute_result"
    }
   ],
   "source": [
    "call_log=pd.read_excel('Data Analyst Intern SQL Assignment.xlsx',sheet_name='call_log')\n",
    "call_log.head()"
   ]
  },
  {
   "cell_type": "code",
   "execution_count": 14,
   "id": "2daa08b6",
   "metadata": {},
   "outputs": [],
   "source": [
    "# Connecting to sqlite database\n",
    "conn=sqlite3.connect('Assignment.db')"
   ]
  },
  {
   "cell_type": "code",
   "execution_count": 15,
   "id": "cf96f61f",
   "metadata": {},
   "outputs": [
    {
     "data": {
      "text/plain": [
       "20"
      ]
     },
     "execution_count": 15,
     "metadata": {},
     "output_type": "execute_result"
    }
   ],
   "source": [
    "# Converting organization dataframe to sql table\n",
    "organization.to_sql('organization', conn, if_exists='replace', index=False)"
   ]
  },
  {
   "cell_type": "code",
   "execution_count": 16,
   "id": "c18762ab",
   "metadata": {},
   "outputs": [
    {
     "data": {
      "text/plain": [
       "385"
      ]
     },
     "execution_count": 16,
     "metadata": {},
     "output_type": "execute_result"
    }
   ],
   "source": [
    "# Converting call_log dataframe to sql table\n",
    "call_log.to_sql('call_log',conn,if_exists='replace',index=False)"
   ]
  },
  {
   "cell_type": "code",
   "execution_count": 17,
   "id": "ec7cb0b2",
   "metadata": {},
   "outputs": [],
   "source": [
    "# Creating cursor object to execute SQL queries\n",
    "cur=conn.cursor()"
   ]
  },
  {
   "attachments": {},
   "cell_type": "markdown",
   "id": "a6497512",
   "metadata": {},
   "source": [
    "## 1. Find the first connected call for all the renewed organizations from the Gujarat location\n"
   ]
  },
  {
   "cell_type": "code",
   "execution_count": 87,
   "id": "ba0d5ec9",
   "metadata": {},
   "outputs": [
    {
     "data": {
      "text/plain": [
       "<sqlite3.Cursor at 0x1c112a42490>"
      ]
     },
     "execution_count": 87,
     "metadata": {},
     "output_type": "execute_result"
    }
   ],
   "source": [
    "# Execute the SQL query\n",
    "cur.execute('''\n",
    "    SELECT c.*\n",
    "    FROM organization o\n",
    "    JOIN call_log c ON o.org_id = c.org_id\n",
    "    WHERE o.org_status = 'renewed'\n",
    "    AND o.location = 'Gujarat'\n",
    "    AND c.call_connected = 1\n",
    "    ORDER BY c.call_date\n",
    "    LIMIT 1\n",
    "''')\n"
   ]
  },
  {
   "cell_type": "code",
   "execution_count": 88,
   "id": "ee8ff7e6",
   "metadata": {},
   "outputs": [
    {
     "name": "stdout",
     "output_type": "stream",
     "text": [
      "Column Names: ['call_date', 'user_id', 'lead_id', 'org_id', 'call_connected', 'call_not_connected_reason']\n",
      "Fetched Result: (1684801914, 'ae3fae95-5e3a-40cc-9c01-5779ec9d4010', 'ef76d2ca-c1a2-47ba-b48c-3ae18155cc88', 999, 1, None)\n",
      "\n",
      "Result\n"
     ]
    },
    {
     "data": {
      "text/html": [
       "<div>\n",
       "<style scoped>\n",
       "    .dataframe tbody tr th:only-of-type {\n",
       "        vertical-align: middle;\n",
       "    }\n",
       "\n",
       "    .dataframe tbody tr th {\n",
       "        vertical-align: top;\n",
       "    }\n",
       "\n",
       "    .dataframe thead th {\n",
       "        text-align: right;\n",
       "    }\n",
       "</style>\n",
       "<table border=\"1\" class=\"dataframe\">\n",
       "  <thead>\n",
       "    <tr style=\"text-align: right;\">\n",
       "      <th></th>\n",
       "      <th>call_date</th>\n",
       "      <th>user_id</th>\n",
       "      <th>lead_id</th>\n",
       "      <th>org_id</th>\n",
       "      <th>call_connected</th>\n",
       "      <th>call_not_connected_reason</th>\n",
       "    </tr>\n",
       "  </thead>\n",
       "  <tbody>\n",
       "    <tr>\n",
       "      <th>0</th>\n",
       "      <td>1684801914</td>\n",
       "      <td>ae3fae95-5e3a-40cc-9c01-5779ec9d4010</td>\n",
       "      <td>ef76d2ca-c1a2-47ba-b48c-3ae18155cc88</td>\n",
       "      <td>999</td>\n",
       "      <td>1</td>\n",
       "      <td>None</td>\n",
       "    </tr>\n",
       "  </tbody>\n",
       "</table>\n",
       "</div>"
      ],
      "text/plain": [
       "    call_date                               user_id  \\\n",
       "0  1684801914  ae3fae95-5e3a-40cc-9c01-5779ec9d4010   \n",
       "\n",
       "                                lead_id  org_id  call_connected  \\\n",
       "0  ef76d2ca-c1a2-47ba-b48c-3ae18155cc88     999               1   \n",
       "\n",
       "  call_not_connected_reason  \n",
       "0                      None  "
      ]
     },
     "execution_count": 88,
     "metadata": {},
     "output_type": "execute_result"
    }
   ],
   "source": [
    "# Fetch the column names\n",
    "column_names = [description[0] for description in cur.description]\n",
    "print(\"Column Names:\", column_names)\n",
    "\n",
    "# Fetch the result\n",
    "result = cur.fetchone()\n",
    "print(\"Fetched Result:\", result)\n",
    "\n",
    "# Convert the result to a DataFrame\n",
    "result_df = pd.DataFrame([result], columns=column_names)\n",
    "print(\"\\nResult\")\n",
    "result_df"
   ]
  },
  {
   "cell_type": "code",
   "execution_count": 91,
   "id": "8e4fd39c",
   "metadata": {},
   "outputs": [],
   "source": [
    "cur.close()"
   ]
  },
  {
   "attachments": {},
   "cell_type": "markdown",
   "id": "3bf22b5e",
   "metadata": {},
   "source": [
    "## 2. Find the count of organizations that had three consecutive calls (excluding Saturday and Sunday) within 0-4 days, 5-8 days, 8-15 days, 16-30 days,30+ days of organization creation"
   ]
  },
  {
   "cell_type": "markdown",
   "id": "9b18b137",
   "metadata": {},
   "source": [
    "#### For Non-Renewed organization"
   ]
  },
  {
   "cell_type": "code",
   "execution_count": 22,
   "id": "1fa5e7a8",
   "metadata": {},
   "outputs": [],
   "source": [
    "call_log['call_date'] = pd.to_datetime(call_log['call_date'])"
   ]
  },
  {
   "cell_type": "code",
   "execution_count": 23,
   "id": "a1314a12",
   "metadata": {},
   "outputs": [
    {
     "data": {
      "text/html": [
       "<div>\n",
       "<style scoped>\n",
       "    .dataframe tbody tr th:only-of-type {\n",
       "        vertical-align: middle;\n",
       "    }\n",
       "\n",
       "    .dataframe tbody tr th {\n",
       "        vertical-align: top;\n",
       "    }\n",
       "\n",
       "    .dataframe thead th {\n",
       "        text-align: right;\n",
       "    }\n",
       "</style>\n",
       "<table border=\"1\" class=\"dataframe\">\n",
       "  <thead>\n",
       "    <tr style=\"text-align: right;\">\n",
       "      <th></th>\n",
       "      <th>org_id</th>\n",
       "      <th>org_name</th>\n",
       "      <th>org_code</th>\n",
       "      <th>org_status</th>\n",
       "      <th>org_date</th>\n",
       "      <th>properties</th>\n",
       "      <th>location</th>\n",
       "      <th>call_date</th>\n",
       "      <th>user_id</th>\n",
       "      <th>lead_id</th>\n",
       "      <th>call_connected</th>\n",
       "      <th>call_not_connected_reason</th>\n",
       "    </tr>\n",
       "  </thead>\n",
       "  <tbody>\n",
       "    <tr>\n",
       "      <th>0</th>\n",
       "      <td>11</td>\n",
       "      <td>Company A</td>\n",
       "      <td>BIW</td>\n",
       "      <td>renewed</td>\n",
       "      <td>2023-05-05 09:53:04+05:30</td>\n",
       "      <td>{\"email\": \"biw@gmail.com\", \"company\": \"Company...</td>\n",
       "      <td>Maharastra</td>\n",
       "      <td>2023-05-29 06:55:55</td>\n",
       "      <td>b2b4a5a9-df17-453b-b4ce-e69deea22ee4</td>\n",
       "      <td>5797ed22-fe18-48b7-ad20-e35d8440af52</td>\n",
       "      <td>0</td>\n",
       "      <td>NOT_PICKED</td>\n",
       "    </tr>\n",
       "    <tr>\n",
       "      <th>1</th>\n",
       "      <td>11</td>\n",
       "      <td>Company A</td>\n",
       "      <td>BIW</td>\n",
       "      <td>renewed</td>\n",
       "      <td>2023-05-05 09:53:04+05:30</td>\n",
       "      <td>{\"email\": \"biw@gmail.com\", \"company\": \"Company...</td>\n",
       "      <td>Maharastra</td>\n",
       "      <td>2023-06-20 10:34:12</td>\n",
       "      <td>b2b4a5a9-df17-453b-b4ce-e69deea22ee4</td>\n",
       "      <td>84faad73-e58f-4396-bc0e-af4c70987d71</td>\n",
       "      <td>1</td>\n",
       "      <td>NaN</td>\n",
       "    </tr>\n",
       "    <tr>\n",
       "      <th>2</th>\n",
       "      <td>11</td>\n",
       "      <td>Company A</td>\n",
       "      <td>BIW</td>\n",
       "      <td>renewed</td>\n",
       "      <td>2023-05-05 09:53:04+05:30</td>\n",
       "      <td>{\"email\": \"biw@gmail.com\", \"company\": \"Company...</td>\n",
       "      <td>Maharastra</td>\n",
       "      <td>2023-06-20 12:10:08</td>\n",
       "      <td>b2b4a5a9-df17-453b-b4ce-e69deea22ee4</td>\n",
       "      <td>f7cdbcdf-a073-4f0d-b38e-b0b76ee7bef4</td>\n",
       "      <td>1</td>\n",
       "      <td>NaN</td>\n",
       "    </tr>\n",
       "    <tr>\n",
       "      <th>3</th>\n",
       "      <td>11</td>\n",
       "      <td>Company A</td>\n",
       "      <td>BIW</td>\n",
       "      <td>renewed</td>\n",
       "      <td>2023-05-05 09:53:04+05:30</td>\n",
       "      <td>{\"email\": \"biw@gmail.com\", \"company\": \"Company...</td>\n",
       "      <td>Maharastra</td>\n",
       "      <td>2023-06-21 05:21:50</td>\n",
       "      <td>b2b4a5a9-df17-453b-b4ce-e69deea22ee4</td>\n",
       "      <td>2f0916c4-b63d-4120-aba9-ab0fbfa6ef66</td>\n",
       "      <td>1</td>\n",
       "      <td>NaN</td>\n",
       "    </tr>\n",
       "    <tr>\n",
       "      <th>4</th>\n",
       "      <td>11</td>\n",
       "      <td>Company A</td>\n",
       "      <td>BIW</td>\n",
       "      <td>renewed</td>\n",
       "      <td>2023-05-05 09:53:04+05:30</td>\n",
       "      <td>{\"email\": \"biw@gmail.com\", \"company\": \"Company...</td>\n",
       "      <td>Maharastra</td>\n",
       "      <td>2023-06-21 06:35:19</td>\n",
       "      <td>b2b4a5a9-df17-453b-b4ce-e69deea22ee4</td>\n",
       "      <td>1fd028b9-e17c-4fe9-af75-b660aeb84a7e</td>\n",
       "      <td>1</td>\n",
       "      <td>NaN</td>\n",
       "    </tr>\n",
       "  </tbody>\n",
       "</table>\n",
       "</div>"
      ],
      "text/plain": [
       "   org_id   org_name org_code org_status                  org_date  \\\n",
       "0      11  Company A      BIW    renewed 2023-05-05 09:53:04+05:30   \n",
       "1      11  Company A      BIW    renewed 2023-05-05 09:53:04+05:30   \n",
       "2      11  Company A      BIW    renewed 2023-05-05 09:53:04+05:30   \n",
       "3      11  Company A      BIW    renewed 2023-05-05 09:53:04+05:30   \n",
       "4      11  Company A      BIW    renewed 2023-05-05 09:53:04+05:30   \n",
       "\n",
       "                                          properties    location  \\\n",
       "0  {\"email\": \"biw@gmail.com\", \"company\": \"Company...  Maharastra   \n",
       "1  {\"email\": \"biw@gmail.com\", \"company\": \"Company...  Maharastra   \n",
       "2  {\"email\": \"biw@gmail.com\", \"company\": \"Company...  Maharastra   \n",
       "3  {\"email\": \"biw@gmail.com\", \"company\": \"Company...  Maharastra   \n",
       "4  {\"email\": \"biw@gmail.com\", \"company\": \"Company...  Maharastra   \n",
       "\n",
       "            call_date                               user_id  \\\n",
       "0 2023-05-29 06:55:55  b2b4a5a9-df17-453b-b4ce-e69deea22ee4   \n",
       "1 2023-06-20 10:34:12  b2b4a5a9-df17-453b-b4ce-e69deea22ee4   \n",
       "2 2023-06-20 12:10:08  b2b4a5a9-df17-453b-b4ce-e69deea22ee4   \n",
       "3 2023-06-21 05:21:50  b2b4a5a9-df17-453b-b4ce-e69deea22ee4   \n",
       "4 2023-06-21 06:35:19  b2b4a5a9-df17-453b-b4ce-e69deea22ee4   \n",
       "\n",
       "                                lead_id  call_connected  \\\n",
       "0  5797ed22-fe18-48b7-ad20-e35d8440af52               0   \n",
       "1  84faad73-e58f-4396-bc0e-af4c70987d71               1   \n",
       "2  f7cdbcdf-a073-4f0d-b38e-b0b76ee7bef4               1   \n",
       "3  2f0916c4-b63d-4120-aba9-ab0fbfa6ef66               1   \n",
       "4  1fd028b9-e17c-4fe9-af75-b660aeb84a7e               1   \n",
       "\n",
       "  call_not_connected_reason  \n",
       "0                NOT_PICKED  \n",
       "1                       NaN  \n",
       "2                       NaN  \n",
       "3                       NaN  \n",
       "4                       NaN  "
      ]
     },
     "execution_count": 23,
     "metadata": {},
     "output_type": "execute_result"
    }
   ],
   "source": [
    "merged_df = pd.merge(organization, call_log, on='org_id', how='inner')\n",
    "merged_df.head()"
   ]
  },
  {
   "cell_type": "code",
   "execution_count": 24,
   "id": "2ad3fd72",
   "metadata": {},
   "outputs": [],
   "source": [
    "# Filter out non-renewed organizations\n",
    "non_renewed_df = merged_df[merged_df['org_status'] == 'not renewed']"
   ]
  },
  {
   "cell_type": "code",
   "execution_count": 28,
   "id": "1a66a644",
   "metadata": {},
   "outputs": [],
   "source": [
    "# Make datetime columns timezone-naive\n",
    "non_renewed_df['org_date'] = non_renewed_df['org_date'].dt.tz_localize(None)\n",
    "non_renewed_df['call_date'] = non_renewed_df['call_date'].dt.tz_localize(None)\n",
    "\n",
    "# Calculate time difference excluding Saturdays and Sundays\n",
    "non_renewed_df['days_since_creation'] = (non_renewed_df['call_date'] - non_renewed_df['org_date']).dt.days\n",
    "\n",
    "# Exclude Saturdays and Sundays\n",
    "non_renewed_df['weekday'] = non_renewed_df['org_date'].dt.dayofweek\n",
    "non_renewed_df = non_renewed_df[non_renewed_df['weekday'] < 5]"
   ]
  },
  {
   "cell_type": "code",
   "execution_count": 29,
   "id": "90d11b12",
   "metadata": {},
   "outputs": [
    {
     "name": "stdout",
     "output_type": "stream",
     "text": [
      "Count of Org - Not Renewed\n",
      "0-4 days: 34\n",
      "5-8 days: 51\n",
      "8-15 days: 2\n",
      "16-30 days: 1\n",
      "30+ days: 66\n"
     ]
    }
   ],
   "source": [
    "# Define bins\n",
    "bins = [-1, 4, 8, 15, 30, float('inf')]\n",
    "labels = ['0-4 days', '5-8 days', '8-15 days', '16-30 days', '30+ days']\n",
    "# Bin the data\n",
    "non_renewed_df['bin'] = pd.cut(non_renewed_df['days_since_creation'], bins=bins, labels=labels)\n",
    "# Count organizations falling into each bin\n",
    "counts = non_renewed_df.groupby('bin').size()\n",
    "# Display the counts\n",
    "print(\"Count of Org - Not Renewed\")\n",
    "for label, count in counts.items():\n",
    "    print(f\"{label}: {count}\")"
   ]
  },
  {
   "cell_type": "markdown",
   "id": "0bfef47e",
   "metadata": {},
   "source": [
    "#### For renewed organization"
   ]
  },
  {
   "cell_type": "code",
   "execution_count": 30,
   "id": "4daeda9f",
   "metadata": {},
   "outputs": [
    {
     "name": "stdout",
     "output_type": "stream",
     "text": [
      "Count of Org - Not Renewed\n",
      "0-4 days: 13\n",
      "5-8 days: 27\n",
      "8-15 days: 12\n",
      "16-30 days: 21\n",
      "30+ days: 137\n"
     ]
    }
   ],
   "source": [
    "# Filter out renewed organizations\n",
    "renewed_df = merged_df[merged_df['org_status'] == 'renewed']\n",
    "# Make datetime columns timezone-naive\n",
    "renewed_df['org_date'] = renewed_df['org_date'].dt.tz_localize(None)\n",
    "renewed_df['call_date'] = renewed_df['call_date'].dt.tz_localize(None)\n",
    "\n",
    "# Calculate time difference excluding Saturdays and Sundays\n",
    "renewed_df['days_since_creation'] = (renewed_df['call_date'] - renewed_df['org_date']).dt.days\n",
    "\n",
    "# Exclude Saturdays and Sundays\n",
    "renewed_df['weekday'] = renewed_df['org_date'].dt.dayofweek\n",
    "renewed_df = renewed_df[renewed_df['weekday'] < 5]\n",
    "# Define bins\n",
    "bins = [-1, 4, 8, 15, 30, float('inf')]\n",
    "labels = ['0-4 days', '5-8 days', '8-15 days', '16-30 days', '30+ days']\n",
    "# Bin the data\n",
    "renewed_df['bin'] = pd.cut(renewed_df['days_since_creation'], bins=bins, labels=labels)\n",
    "# Count organizations falling into each bin\n",
    "counts = renewed_df.groupby('bin').size()\n",
    "# Display the counts\n",
    "print(\"Count of Org - Not Renewed\")\n",
    "for label, count in counts.items():\n",
    "    print(f\"{label}: {count}\")"
   ]
  },
  {
   "attachments": {},
   "cell_type": "markdown",
   "id": "8ab0e6de",
   "metadata": {},
   "source": [
    "## 3. Identify the location with the maximum number of connected calls for unique leads"
   ]
  },
  {
   "cell_type": "code",
   "execution_count": 34,
   "id": "a56ae2f1",
   "metadata": {},
   "outputs": [],
   "source": [
    "cur=conn.cursor() #Creating cursor object to execute the query"
   ]
  },
  {
   "cell_type": "code",
   "execution_count": 51,
   "id": "8474b1d8",
   "metadata": {},
   "outputs": [
    {
     "data": {
      "text/plain": [
       "<sqlite3.Cursor at 0x1c513e2c8f0>"
      ]
     },
     "execution_count": 51,
     "metadata": {},
     "output_type": "execute_result"
    }
   ],
   "source": [
    "cur.execute('''\n",
    "SELECT org.location, COUNT(DISTINCT call_log.lead_id) AS unique_leads_count\n",
    "FROM organization AS org\n",
    "JOIN call_log ON org.org_id = call_log.org_id\n",
    "WHERE call_log.call_connected = 1\n",
    "GROUP BY org.location\n",
    "ORDER BY unique_leads_count DESC\n",
    "LIMIT 1;\n",
    "''')"
   ]
  },
  {
   "cell_type": "code",
   "execution_count": 52,
   "id": "08f703c7",
   "metadata": {},
   "outputs": [
    {
     "name": "stdout",
     "output_type": "stream",
     "text": [
      "Column Names: ['location', 'unique_leads_count']\n",
      "\n",
      "Result\n"
     ]
    },
    {
     "data": {
      "text/html": [
       "<div>\n",
       "<style scoped>\n",
       "    .dataframe tbody tr th:only-of-type {\n",
       "        vertical-align: middle;\n",
       "    }\n",
       "\n",
       "    .dataframe tbody tr th {\n",
       "        vertical-align: top;\n",
       "    }\n",
       "\n",
       "    .dataframe thead th {\n",
       "        text-align: right;\n",
       "    }\n",
       "</style>\n",
       "<table border=\"1\" class=\"dataframe\">\n",
       "  <thead>\n",
       "    <tr style=\"text-align: right;\">\n",
       "      <th></th>\n",
       "      <th>location</th>\n",
       "      <th>unique_leads_count</th>\n",
       "    </tr>\n",
       "  </thead>\n",
       "  <tbody>\n",
       "    <tr>\n",
       "      <th>0</th>\n",
       "      <td>Maharastra</td>\n",
       "      <td>76</td>\n",
       "    </tr>\n",
       "  </tbody>\n",
       "</table>\n",
       "</div>"
      ],
      "text/plain": [
       "     location  unique_leads_count\n",
       "0  Maharastra                  76"
      ]
     },
     "execution_count": 52,
     "metadata": {},
     "output_type": "execute_result"
    }
   ],
   "source": [
    "# Fetch the column names\n",
    "column_names = [description[0] for description in cur.description]\n",
    "print(\"Column Names:\", column_names)\n",
    "\n",
    "# Fetch the result\n",
    "result = cur.fetchall()\n",
    "\n",
    "# Convert the result to a DataFrame\n",
    "result_df = pd.DataFrame(result, columns=column_names)\n",
    "print(\"\\nResult\")\n",
    "result_df"
   ]
  },
  {
   "cell_type": "code",
   "execution_count": 39,
   "id": "9e7aac76",
   "metadata": {},
   "outputs": [],
   "source": [
    "cur.close()"
   ]
  },
  {
   "attachments": {},
   "cell_type": "markdown",
   "id": "77538464",
   "metadata": {},
   "source": [
    "## 4. For calls not connected, identify the most common reason(s) for why the call was not connected."
   ]
  },
  {
   "cell_type": "code",
   "execution_count": 40,
   "id": "ee5bf668",
   "metadata": {},
   "outputs": [],
   "source": [
    "cur=conn.cursor()"
   ]
  },
  {
   "cell_type": "code",
   "execution_count": 49,
   "id": "6e5c714c",
   "metadata": {},
   "outputs": [
    {
     "data": {
      "text/plain": [
       "<sqlite3.Cursor at 0x1c513e2c8f0>"
      ]
     },
     "execution_count": 49,
     "metadata": {},
     "output_type": "execute_result"
    }
   ],
   "source": [
    "cur.execute('''\n",
    "SELECT call_not_connected_reason, COUNT(*) AS reason_count\n",
    "FROM call_log\n",
    "WHERE call_connected = 0\n",
    "GROUP BY call_not_connected_reason\n",
    "ORDER BY reason_count DESC;\n",
    "''')"
   ]
  },
  {
   "cell_type": "code",
   "execution_count": 50,
   "id": "238be469",
   "metadata": {},
   "outputs": [
    {
     "name": "stdout",
     "output_type": "stream",
     "text": [
      "Column Names: ['call_not_connected_reason', 'reason_count']\n",
      "\n",
      "Result\n"
     ]
    },
    {
     "data": {
      "text/html": [
       "<div>\n",
       "<style scoped>\n",
       "    .dataframe tbody tr th:only-of-type {\n",
       "        vertical-align: middle;\n",
       "    }\n",
       "\n",
       "    .dataframe tbody tr th {\n",
       "        vertical-align: top;\n",
       "    }\n",
       "\n",
       "    .dataframe thead th {\n",
       "        text-align: right;\n",
       "    }\n",
       "</style>\n",
       "<table border=\"1\" class=\"dataframe\">\n",
       "  <thead>\n",
       "    <tr style=\"text-align: right;\">\n",
       "      <th></th>\n",
       "      <th>call_not_connected_reason</th>\n",
       "      <th>reason_count</th>\n",
       "    </tr>\n",
       "  </thead>\n",
       "  <tbody>\n",
       "    <tr>\n",
       "      <th>0</th>\n",
       "      <td>NOT_PICKED</td>\n",
       "      <td>107</td>\n",
       "    </tr>\n",
       "    <tr>\n",
       "      <th>1</th>\n",
       "      <td>BUSY</td>\n",
       "      <td>16</td>\n",
       "    </tr>\n",
       "    <tr>\n",
       "      <th>2</th>\n",
       "      <td>INVALID_NUMBER</td>\n",
       "      <td>15</td>\n",
       "    </tr>\n",
       "    <tr>\n",
       "      <th>3</th>\n",
       "      <td>SWITCH_OFF</td>\n",
       "      <td>14</td>\n",
       "    </tr>\n",
       "    <tr>\n",
       "      <th>4</th>\n",
       "      <td>USER_DISCONNECTED</td>\n",
       "      <td>13</td>\n",
       "    </tr>\n",
       "    <tr>\n",
       "      <th>5</th>\n",
       "      <td>CALL_NOT_CONNECTED</td>\n",
       "      <td>11</td>\n",
       "    </tr>\n",
       "    <tr>\n",
       "      <th>6</th>\n",
       "      <td>NUMBER_NOT_IN_USE</td>\n",
       "      <td>8</td>\n",
       "    </tr>\n",
       "    <tr>\n",
       "      <th>7</th>\n",
       "      <td>NETWORK_ISSUE</td>\n",
       "      <td>6</td>\n",
       "    </tr>\n",
       "    <tr>\n",
       "      <th>8</th>\n",
       "      <td>INCOMING_CALLS_NOT_AVAILABLE</td>\n",
       "      <td>2</td>\n",
       "    </tr>\n",
       "    <tr>\n",
       "      <th>9</th>\n",
       "      <td>other(Training)</td>\n",
       "      <td>1</td>\n",
       "    </tr>\n",
       "    <tr>\n",
       "      <th>10</th>\n",
       "      <td>other(Not interested)</td>\n",
       "      <td>1</td>\n",
       "    </tr>\n",
       "    <tr>\n",
       "      <th>11</th>\n",
       "      <td>other(Not deal in Andaman,Sikkim Darjeeling)</td>\n",
       "      <td>1</td>\n",
       "    </tr>\n",
       "    <tr>\n",
       "      <th>12</th>\n",
       "      <td>other(Don't Do this Sector)</td>\n",
       "      <td>1</td>\n",
       "    </tr>\n",
       "    <tr>\n",
       "      <th>13</th>\n",
       "      <td>other(Call done with husband)</td>\n",
       "      <td>1</td>\n",
       "    </tr>\n",
       "    <tr>\n",
       "      <th>14</th>\n",
       "      <td>other(Call done by asha)</td>\n",
       "      <td>1</td>\n",
       "    </tr>\n",
       "  </tbody>\n",
       "</table>\n",
       "</div>"
      ],
      "text/plain": [
       "                       call_not_connected_reason  reason_count\n",
       "0                                     NOT_PICKED           107\n",
       "1                                           BUSY            16\n",
       "2                                 INVALID_NUMBER            15\n",
       "3                                     SWITCH_OFF            14\n",
       "4                              USER_DISCONNECTED            13\n",
       "5                             CALL_NOT_CONNECTED            11\n",
       "6                              NUMBER_NOT_IN_USE             8\n",
       "7                                  NETWORK_ISSUE             6\n",
       "8                   INCOMING_CALLS_NOT_AVAILABLE             2\n",
       "9                                other(Training)             1\n",
       "10                         other(Not interested)             1\n",
       "11  other(Not deal in Andaman,Sikkim Darjeeling)             1\n",
       "12                   other(Don't Do this Sector)             1\n",
       "13                 other(Call done with husband)             1\n",
       "14                      other(Call done by asha)             1"
      ]
     },
     "execution_count": 50,
     "metadata": {},
     "output_type": "execute_result"
    }
   ],
   "source": [
    "# Fetch the column names\n",
    "column_names = [description[0] for description in cur.description]\n",
    "print(\"Column Names:\", column_names)\n",
    "\n",
    "# Fetch the result\n",
    "result = cur.fetchall()\n",
    "\n",
    "# Convert the result to a DataFrame\n",
    "result_df = pd.DataFrame(result, columns=column_names)\n",
    "print(\"\\nResult\")\n",
    "result_df"
   ]
  },
  {
   "cell_type": "markdown",
   "id": "b53feeb6",
   "metadata": {},
   "source": [
    "### **The most common reason for the call not being connected is that it was not answered.**"
   ]
  },
  {
   "cell_type": "markdown",
   "id": "989ded4b",
   "metadata": {},
   "source": [
    "## Summary"
   ]
  },
  {
   "cell_type": "markdown",
   "id": "5375f6ec",
   "metadata": {},
   "source": [
    "#### First Connected Call for Renewed Organizations from Gujarat Location:\n",
    "    The first connected call for a renewed organization from the Gujarat location occurred on the date 1684801914.\n",
    "\n",
    "#### Count of Organizations with Three Consecutive Calls:\n",
    "- For renewed organizations:\n",
    "    - 0-4 days: 34 organizations\n",
    "    - 5-8 days: 51 organizations\n",
    "    - 8-15 days: 2 organizations\n",
    "    - 16-30 days: 1 organization\n",
    "    - 30+ days: 66 organizations\n",
    "- For not renewed organizations:\n",
    "    - 0-4 days: 13 organizations\n",
    "    - 5-8 days: 27 organizations\n",
    "    - 8-15 days: 12 organizations\n",
    "    - 16-30 days: 21 organizations\n",
    "    - 30+ days: 137 organizations\n",
    "    \n",
    "#### Location with Maximum Number of Connected Calls for Unique Leads:\n",
    "    The location with the maximum number of connected calls for unique leads is Maharastra, with a count of 76 unique leads.\n",
    "\n",
    "#### Most Common Reasons for Calls Not Connected:\n",
    "    The most common reason for calls not connected is \"NOT_PICKED,\" with a count of 107 occurrences. Other common reasons include \"BUSY,\" \"INVALID_NUMBER,\" \"SWITCH_OFF,\" and \"USER_DISCONNECTED.\"\n"
   ]
  },
  {
   "cell_type": "markdown",
   "id": "2e6a1697",
   "metadata": {},
   "source": [
    "## Inference:\n",
    "\n",
    "- The analysis provides insights into the call connectivity status, timing of consecutive calls, and common reasons for calls not being connected.\n",
    "- Renewed organizations in Gujarat show a significant number of consecutive calls within different time frames, indicating active engagement.\n",
    "- The analysis highlights the importance of follow-up strategies, especially for not renewed organizations, where the distribution of consecutive calls varies across different time intervals.\n",
    "- Maharastra emerges as a location with a high number of connected calls for unique leads, suggesting potential opportunities for business engagement and growth.\n",
    "- The most common reason for calls not being connected is related to the call recipient not picking up the phone, indicating a need for improved call response strategies or alternative communication methods."
   ]
  }
 ],
 "metadata": {
  "kernelspec": {
   "display_name": "Python 3 (ipykernel)",
   "language": "python",
   "name": "python3"
  },
  "language_info": {
   "codemirror_mode": {
    "name": "ipython",
    "version": 3
   },
   "file_extension": ".py",
   "mimetype": "text/x-python",
   "name": "python",
   "nbconvert_exporter": "python",
   "pygments_lexer": "ipython3",
   "version": "3.9.13"
  }
 },
 "nbformat": 4,
 "nbformat_minor": 5
}
